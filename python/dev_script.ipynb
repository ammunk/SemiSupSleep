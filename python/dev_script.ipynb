{
 "cells": [
  {
   "cell_type": "code",
   "execution_count": 26,
   "metadata": {
    "collapsed": true
   },
   "outputs": [],
   "source": [
    "# Import modules\n",
    "import json\n",
    "from sqlalchemy import Text, create_engine, Integer, String, Column, DateTime, JSON\n",
    "from sqlalchemy.ext.declarative import declarative_base\n",
    "from sqlalchemy.orm import sessionmaker\n",
    "from datetime import datetime\n",
    "from sqlalchemy.types import TypeDecorator"
   ]
  },
  {
   "cell_type": "code",
   "execution_count": 27,
   "metadata": {},
   "outputs": [
    {
     "name": "stdout",
     "output_type": "stream",
     "text": [
      "2017-07-25 16:30:25,856 INFO sqlalchemy.engine.base.Engine SELECT CAST('test plain returns' AS VARCHAR(60)) AS anon_1\n",
      "2017-07-25 16:30:25,857 INFO sqlalchemy.engine.base.Engine ()\n",
      "2017-07-25 16:30:25,860 INFO sqlalchemy.engine.base.Engine SELECT CAST('test unicode returns' AS VARCHAR(60)) AS anon_1\n",
      "2017-07-25 16:30:25,860 INFO sqlalchemy.engine.base.Engine ()\n",
      "2017-07-25 16:30:25,861 INFO sqlalchemy.engine.base.Engine PRAGMA table_info(\"opt_models\")\n",
      "2017-07-25 16:30:25,862 INFO sqlalchemy.engine.base.Engine ()\n",
      "2017-07-25 16:30:25,863 INFO sqlalchemy.engine.base.Engine \n",
      "CREATE TABLE opt_models (\n",
      "\tid INTEGER NOT NULL, \n",
      "\tn_cluster INTEGER, \n",
      "\tcreated_at DATETIME, \n",
      "\tcv_results TEXT(256), \n",
      "\tPRIMARY KEY (id)\n",
      ")\n",
      "\n",
      "\n",
      "2017-07-25 16:30:25,864 INFO sqlalchemy.engine.base.Engine ()\n",
      "2017-07-25 16:30:25,898 INFO sqlalchemy.engine.base.Engine COMMIT\n"
     ]
    }
   ],
   "source": [
    "engine = create_engine('sqlite:///sleep_performance.db', echo = True)\n",
    "\n",
    "Base = declarative_base()\n",
    "\n",
    "\n",
    "SIZE = 256\n",
    "# You can create a custom type by subclassing sqlalchemy.types.\n",
    "# TypeDecorator to handle serialization and deserialization to Text.\n",
    "class TextPickleType(TypeDecorator):\n",
    "\n",
    "    impl = Text(SIZE)\n",
    "\n",
    "    def process_bind_param(self, value, dialect):\n",
    "        if value is not None:\n",
    "            value = json.dumps(value)\n",
    "\n",
    "        return value\n",
    "\n",
    "    def process_result_value(self, value, dialect):\n",
    "        if value is not None:\n",
    "            value = json.loads(value)\n",
    "        return value\n",
    "\n",
    "class OptModel(Base):\n",
    "    __tablename__ = 'opt_models'\n",
    "\n",
    "    id = Column(Integer, primary_key = True)\n",
    "    n_cluster = Column(Integer)\n",
    "    created_at = Column(DateTime, default = datetime.now(), onupdate = datetime.now())\n",
    "    # JSON datatype works only with sqlalchemy CORE.. We use ORM\n",
    "    cv_results = Column(TextPickleType())\n",
    "\n",
    "\n",
    "Base.metadata.create_all(engine)\n",
    "\n",
    "\n",
    "keys = ['n_cluster', 'cv_results']\n",
    "\n",
    "fun = [5, {'a': '5', 'b': '10'} ]\n",
    "\n",
    "an_opt_model = OptModel(**{key: value for key, value in zip(keys ,fun[1:])})\n",
    "\n",
    "Session = sessionmaker(bind = engine)\n",
    "\n",
    "session = Session()\n",
    "\n",
    "session.add(an_opt_model)"
   ]
  },
  {
   "cell_type": "code",
   "execution_count": 15,
   "metadata": {
    "collapsed": true
   },
   "outputs": [],
   "source": [
    "import scipy.io as sio\n",
    "from sklearn.decomposition import NMF"
   ]
  },
  {
   "cell_type": "code",
   "execution_count": 2,
   "metadata": {
    "collapsed": true
   },
   "outputs": [],
   "source": [
    "spec_path ='/zhome/49/7/76434/Documents/Data/SpecsAndLabels.mat'"
   ]
  },
  {
   "cell_type": "code",
   "execution_count": 3,
   "metadata": {
    "collapsed": true
   },
   "outputs": [],
   "source": [
    "SaL = sio.loadmat(spec_path)"
   ]
  },
  {
   "cell_type": "code",
   "execution_count": 31,
   "metadata": {
    "collapsed": true
   },
   "outputs": [],
   "source": [
    "spec1 = SaL['SPEC_1'][0][0]\n",
    "spec2 = SaL['SPEC_2'][0][0]"
   ]
  },
  {
   "cell_type": "code",
   "execution_count": 32,
   "metadata": {},
   "outputs": [
    {
     "data": {
      "text/plain": [
       "(781, 2048)"
      ]
     },
     "execution_count": 32,
     "metadata": {},
     "output_type": "execute_result"
    }
   ],
   "source": [
    "spec1.shape"
   ]
  },
  {
   "cell_type": "code",
   "execution_count": 40,
   "metadata": {
    "collapsed": true
   },
   "outputs": [],
   "source": [
    "model = NMF(n_components=30, init='nndsvd', random_state=0)\n",
    "W1 = model.fit_transform(spec1)\n",
    "spec1_transf = model.inverse_transform(W1)\n",
    "recon_error = model.reconstruction_err_"
   ]
  },
  {
   "cell_type": "code",
   "execution_count": 41,
   "metadata": {},
   "outputs": [
    {
     "name": "stdout",
     "output_type": "stream",
     "text": [
      "(781, 30)\n",
      "(781, 2048)\n"
     ]
    }
   ],
   "source": [
    "print W1.shape\n",
    "print spec1_transf.shape"
   ]
  },
  {
   "cell_type": "code",
   "execution_count": 42,
   "metadata": {
    "collapsed": true
   },
   "outputs": [],
   "source": [
    "W2 = model.transform(spec2)\n",
    "spec2_transf = model.inverse_transform(W2)"
   ]
  },
  {
   "cell_type": "code",
   "execution_count": 43,
   "metadata": {},
   "outputs": [
    {
     "name": "stdout",
     "output_type": "stream",
     "text": [
      "(1067, 30)\n",
      "(1067, 2048)\n"
     ]
    }
   ],
   "source": [
    "print W2.shape\n",
    "print spec2_transf.shape"
   ]
  },
  {
   "cell_type": "code",
   "execution_count": 44,
   "metadata": {
    "collapsed": true
   },
   "outputs": [],
   "source": [
    "result_path ='/zhome/49/7/76434/Documents/TestSpecs.mat'"
   ]
  },
  {
   "cell_type": "code",
   "execution_count": 45,
   "metadata": {
    "collapsed": true
   },
   "outputs": [],
   "source": [
    "sio.savemat(result_path, {'spec1_transf': spec1_transf, 'spec2_transf': spec2_transf, \n",
    "                          'W1': W1, 'W2': W2, 'spec1': spec1, 'spec2': spec2})"
   ]
  },
  {
   "cell_type": "code",
   "execution_count": 35,
   "metadata": {
    "collapsed": true
   },
   "outputs": [],
   "source": [
    "from sklearn.decomposition import NMF\n",
    "import scipy.io as sio\n",
    "import numpy as np\n",
    "import matplotlib.pyplot as plt\n",
    "import json \n",
    "import pandas as pd"
   ]
  },
  {
   "cell_type": "code",
   "execution_count": 23,
   "metadata": {
    "collapsed": true
   },
   "outputs": [],
   "source": [
    "file_name = \"/zhome/49/7/76434/Documents/Data/SpecsAndLabels.mat\"\n",
    "SpecsLabels = sio.loadmat(file_name)"
   ]
  },
  {
   "cell_type": "code",
   "execution_count": 81,
   "metadata": {},
   "outputs": [
    {
     "data": {
      "text/plain": [
       "(1043, 2048)"
      ]
     },
     "execution_count": 81,
     "metadata": {},
     "output_type": "execute_result"
    }
   ],
   "source": [
    "SpecsLabels['SPEC_1'][0][1].shape"
   ]
  },
  {
   "cell_type": "code",
   "execution_count": 37,
   "metadata": {
    "collapsed": true
   },
   "outputs": [],
   "source": [
    "def compute_nnmf_logLik(subject_spec1,nnmf_recon):\n",
    "    \n",
    "    [r, c] = subject_spec1.shape\n",
    "\n",
    "    diffSq = (nnmf_recon - subject_spec1)**2\n",
    "    sigma = np.sum(diffSq) / (r*c)\n",
    "    \n",
    "    #print \"sigma = \", sigma\n",
    "    # inverse variance\n",
    "    beta = 1 / sigma\n",
    "\n",
    "    negLoglike = - beta * np.sum(diffSq)/2 + r * c * np.log(beta) / 2 - r * c * np.log(2 * np.pi) / 2\n",
    "    return negLoglike"
   ]
  },
  {
   "cell_type": "code",
   "execution_count": 38,
   "metadata": {
    "collapsed": true
   },
   "outputs": [],
   "source": [
    "def find_optimum_nnmf_dims(subject_spec1):\n",
    "    \n",
    "    lowest_BIC = np.inf\n",
    "    opt_dim = 0\n",
    "    \n",
    "    BIC_values = []\n",
    "    dim_values = range(10,100,10)\n",
    "    \n",
    "    [r, c] = subject_spec1.shape\n",
    "    \n",
    "    for n in dim_values:\n",
    "        #print \"\\nNumber of NNMF dims = \", n\n",
    "        model = NMF(n_components=n, init='nndsvd', random_state=0)\n",
    "        W1 = model.fit_transform(subject_spec1)\n",
    "        nnmf_recon = model.inverse_transform(W1)\n",
    "        \n",
    "        negLoglike = compute_nnmf_logLik(subject_spec1,nnmf_recon)\n",
    "        Q = n*(r + c)\n",
    "        \n",
    "        current_BIC = -2 * negLoglike + 2 * Q * np.log(r * c) / 2;\n",
    "        #print \"Log Likelihood = \", negLoglike\n",
    "        #print \"Q = \", Q\n",
    "        #print \"BIC = \", current_BIC\n",
    "        \n",
    "        BIC_values.append(current_BIC)\n",
    "        \n",
    "        if current_BIC < lowest_BIC:\n",
    "            lowest_BIC = current_BIC\n",
    "            opt_dim = n\n",
    "            best_model = model\n",
    "            \n",
    "    #plt.plot(dim_values, BIC_values)\n",
    "    #plt.ylabel('BIC')\n",
    "    #plt.xlabel('number of dimensions')\n",
    "    #plt.show()\n",
    "    print \"opt_dim = \", opt_dim\n",
    "    return {'nnmf_dim' : opt_dim, 'nnmf_BIC': lowest_BIC}, best_model"
   ]
  },
  {
   "cell_type": "code",
   "execution_count": 43,
   "metadata": {
    "collapsed": true
   },
   "outputs": [],
   "source": [
    "def col_names_tuple(n_features):\n",
    "    #global file_name\n",
    "    #row1_colnames = [[\"subject\"+str(x)]*(n_features*2 + 4) for x in range(1,20)]\n",
    "    row1_colnames = [ [\"val\"]*(n_features + 2), [\"test\"]*(n_features + 2) ]\n",
    "    row2_colnames = [ [\"X\"]*n_features, [\"y_c4\"], [\"y_c6\"] ]*2\n",
    "    row3_colnames = [range(n_features), [1]*2] * 2\n",
    "    \n",
    "    col_names = map(flatten,[ row1_colnames, row2_colnames, row3_colnames])\n",
    "    \n",
    "    return list(zip(*col_names))"
   ]
  },
  {
   "cell_type": "code",
   "execution_count": 51,
   "metadata": {
    "collapsed": true
   },
   "outputs": [],
   "source": [
    "def col_recon_tuple():\n",
    "    n_features = 2049\n",
    "    row1_colnames = [ [\"train\"]*(n_features), [\"test\"]*(n_features) ]\n",
    "    row2_colnames = [range(n_features * 2)]\n",
    "    \n",
    "    col_names = map(flatten,[ row1_colnames, row2_colnames])\n",
    "    \n",
    "    return list(zip(*col_names))"
   ]
  },
  {
   "cell_type": "code",
   "execution_count": 45,
   "metadata": {
    "collapsed": true
   },
   "outputs": [],
   "source": [
    "# funciton for flattening lists\n",
    "flatten = lambda l: [item for sublist in l for item in sublist]"
   ]
  },
  {
   "cell_type": "code",
   "execution_count": 53,
   "metadata": {},
   "outputs": [
    {
     "ename": "KeyboardInterrupt",
     "evalue": "",
     "output_type": "error",
     "traceback": [
      "\u001b[0;31m---------------------------------------------------------------------------\u001b[0m",
      "\u001b[0;31mKeyboardInterrupt\u001b[0m                         Traceback (most recent call last)",
      "\u001b[0;32m<ipython-input-53-d875a37784b1>\u001b[0m in \u001b[0;36m<module>\u001b[0;34m()\u001b[0m\n\u001b[1;32m      9\u001b[0m \u001b[0;34m\u001b[0m\u001b[0m\n\u001b[1;32m     10\u001b[0m \u001b[0;32mfor\u001b[0m \u001b[0mx1\u001b[0m\u001b[0;34m,\u001b[0m\u001b[0my1_4\u001b[0m\u001b[0;34m,\u001b[0m\u001b[0my1_6\u001b[0m\u001b[0;34m,\u001b[0m\u001b[0mx2\u001b[0m\u001b[0;34m,\u001b[0m\u001b[0my2_4\u001b[0m\u001b[0;34m,\u001b[0m\u001b[0my2_6\u001b[0m \u001b[0;32min\u001b[0m \u001b[0mzipped_data\u001b[0m\u001b[0;34m:\u001b[0m\u001b[0;34m\u001b[0m\u001b[0m\n\u001b[0;32m---> 11\u001b[0;31m     \u001b[0md\u001b[0m\u001b[0;34m,\u001b[0m \u001b[0mmodel\u001b[0m \u001b[0;34m=\u001b[0m \u001b[0mfind_optimum_nnmf_dims\u001b[0m\u001b[0;34m(\u001b[0m\u001b[0mx1\u001b[0m\u001b[0;34m)\u001b[0m\u001b[0;34m\u001b[0m\u001b[0m\n\u001b[0m\u001b[1;32m     12\u001b[0m     \u001b[0mn_features\u001b[0m \u001b[0;34m=\u001b[0m \u001b[0md\u001b[0m\u001b[0;34m[\u001b[0m\u001b[0;34m'nnmf_dim'\u001b[0m\u001b[0;34m]\u001b[0m\u001b[0;34m\u001b[0m\u001b[0m\n\u001b[1;32m     13\u001b[0m     \u001b[0mopt_n_features\u001b[0m\u001b[0;34m[\u001b[0m\u001b[0;34m'Subject_'\u001b[0m \u001b[0;34m+\u001b[0m \u001b[0mstr\u001b[0m\u001b[0;34m(\u001b[0m\u001b[0msub_counter\u001b[0m\u001b[0;34m)\u001b[0m\u001b[0;34m]\u001b[0m \u001b[0;34m=\u001b[0m \u001b[0md\u001b[0m\u001b[0;34m\u001b[0m\u001b[0m\n",
      "\u001b[0;32m<ipython-input-38-b9be408529c1>\u001b[0m in \u001b[0;36mfind_optimum_nnmf_dims\u001b[0;34m(subject_spec1)\u001b[0m\n\u001b[1;32m     12\u001b[0m         \u001b[0;31m#print \"\\nNumber of NNMF dims = \", n\u001b[0m\u001b[0;34m\u001b[0m\u001b[0;34m\u001b[0m\u001b[0m\n\u001b[1;32m     13\u001b[0m         \u001b[0mmodel\u001b[0m \u001b[0;34m=\u001b[0m \u001b[0mNMF\u001b[0m\u001b[0;34m(\u001b[0m\u001b[0mn_components\u001b[0m\u001b[0;34m=\u001b[0m\u001b[0mn\u001b[0m\u001b[0;34m,\u001b[0m \u001b[0minit\u001b[0m\u001b[0;34m=\u001b[0m\u001b[0;34m'nndsvd'\u001b[0m\u001b[0;34m,\u001b[0m \u001b[0mrandom_state\u001b[0m\u001b[0;34m=\u001b[0m\u001b[0;36m0\u001b[0m\u001b[0;34m)\u001b[0m\u001b[0;34m\u001b[0m\u001b[0m\n\u001b[0;32m---> 14\u001b[0;31m         \u001b[0mW1\u001b[0m \u001b[0;34m=\u001b[0m \u001b[0mmodel\u001b[0m\u001b[0;34m.\u001b[0m\u001b[0mfit_transform\u001b[0m\u001b[0;34m(\u001b[0m\u001b[0msubject_spec1\u001b[0m\u001b[0;34m)\u001b[0m\u001b[0;34m\u001b[0m\u001b[0m\n\u001b[0m\u001b[1;32m     15\u001b[0m         \u001b[0mnnmf_recon\u001b[0m \u001b[0;34m=\u001b[0m \u001b[0mmodel\u001b[0m\u001b[0;34m.\u001b[0m\u001b[0minverse_transform\u001b[0m\u001b[0;34m(\u001b[0m\u001b[0mW1\u001b[0m\u001b[0;34m)\u001b[0m\u001b[0;34m\u001b[0m\u001b[0m\n\u001b[1;32m     16\u001b[0m \u001b[0;34m\u001b[0m\u001b[0m\n",
      "\u001b[0;32m/zhome/49/7/76434/anaconda2/lib/python2.7/site-packages/sklearn/decomposition/nmf.pyc\u001b[0m in \u001b[0;36mfit_transform\u001b[0;34m(self, X, y, W, H)\u001b[0m\n\u001b[1;32m   1032\u001b[0m             \u001b[0mshuffle\u001b[0m\u001b[0;34m=\u001b[0m\u001b[0mself\u001b[0m\u001b[0;34m.\u001b[0m\u001b[0mshuffle\u001b[0m\u001b[0;34m,\u001b[0m\u001b[0;34m\u001b[0m\u001b[0m\n\u001b[1;32m   1033\u001b[0m             \u001b[0mnls_max_iter\u001b[0m\u001b[0;34m=\u001b[0m\u001b[0mself\u001b[0m\u001b[0;34m.\u001b[0m\u001b[0mnls_max_iter\u001b[0m\u001b[0;34m,\u001b[0m \u001b[0msparseness\u001b[0m\u001b[0;34m=\u001b[0m\u001b[0mself\u001b[0m\u001b[0;34m.\u001b[0m\u001b[0msparseness\u001b[0m\u001b[0;34m,\u001b[0m\u001b[0;34m\u001b[0m\u001b[0m\n\u001b[0;32m-> 1034\u001b[0;31m             beta=self.beta, eta=self.eta)\n\u001b[0m\u001b[1;32m   1035\u001b[0m \u001b[0;34m\u001b[0m\u001b[0m\n\u001b[1;32m   1036\u001b[0m         \u001b[0;32mif\u001b[0m \u001b[0mself\u001b[0m\u001b[0;34m.\u001b[0m\u001b[0msolver\u001b[0m \u001b[0;34m==\u001b[0m \u001b[0;34m'pg'\u001b[0m\u001b[0;34m:\u001b[0m\u001b[0;34m\u001b[0m\u001b[0m\n",
      "\u001b[0;32m/zhome/49/7/76434/anaconda2/lib/python2.7/site-packages/sklearn/decomposition/nmf.pyc\u001b[0m in \u001b[0;36mnon_negative_factorization\u001b[0;34m(X, W, H, n_components, init, update_H, solver, tol, max_iter, alpha, l1_ratio, regularization, random_state, verbose, shuffle, nls_max_iter, sparseness, beta, eta)\u001b[0m\n\u001b[1;32m    795\u001b[0m                                                \u001b[0mverbose\u001b[0m\u001b[0;34m=\u001b[0m\u001b[0mverbose\u001b[0m\u001b[0;34m,\u001b[0m\u001b[0;34m\u001b[0m\u001b[0m\n\u001b[1;32m    796\u001b[0m                                                \u001b[0mshuffle\u001b[0m\u001b[0;34m=\u001b[0m\u001b[0mshuffle\u001b[0m\u001b[0;34m,\u001b[0m\u001b[0;34m\u001b[0m\u001b[0m\n\u001b[0;32m--> 797\u001b[0;31m                                                random_state=random_state)\n\u001b[0m\u001b[1;32m    798\u001b[0m     \u001b[0;32melse\u001b[0m\u001b[0;34m:\u001b[0m\u001b[0;34m\u001b[0m\u001b[0m\n\u001b[1;32m    799\u001b[0m         \u001b[0;32mraise\u001b[0m \u001b[0mValueError\u001b[0m\u001b[0;34m(\u001b[0m\u001b[0;34m\"Invalid solver parameter '%s'.\"\u001b[0m \u001b[0;34m%\u001b[0m \u001b[0msolver\u001b[0m\u001b[0;34m)\u001b[0m\u001b[0;34m\u001b[0m\u001b[0m\n",
      "\u001b[0;32m/zhome/49/7/76434/anaconda2/lib/python2.7/site-packages/sklearn/decomposition/nmf.pyc\u001b[0m in \u001b[0;36m_fit_coordinate_descent\u001b[0;34m(X, W, H, tol, max_iter, alpha, l1_ratio, regularization, update_H, verbose, shuffle, random_state)\u001b[0m\n\u001b[1;32m    582\u001b[0m         \u001b[0;32mif\u001b[0m \u001b[0mupdate_H\u001b[0m\u001b[0;34m:\u001b[0m\u001b[0;34m\u001b[0m\u001b[0m\n\u001b[1;32m    583\u001b[0m             violation += _update_coordinate_descent(X.T, Ht, W, l1_H, l2_H,\n\u001b[0;32m--> 584\u001b[0;31m                                                     shuffle, rng)\n\u001b[0m\u001b[1;32m    585\u001b[0m \u001b[0;34m\u001b[0m\u001b[0m\n\u001b[1;32m    586\u001b[0m         \u001b[0;32mif\u001b[0m \u001b[0mn_iter\u001b[0m \u001b[0;34m==\u001b[0m \u001b[0;36m0\u001b[0m\u001b[0;34m:\u001b[0m\u001b[0;34m\u001b[0m\u001b[0m\n",
      "\u001b[0;32m/zhome/49/7/76434/anaconda2/lib/python2.7/site-packages/sklearn/decomposition/nmf.pyc\u001b[0m in \u001b[0;36m_update_coordinate_descent\u001b[0;34m(X, W, Ht, l1_reg, l2_reg, shuffle, random_state)\u001b[0m\n\u001b[1;32m    483\u001b[0m     \u001b[0;31m# The following seems to be required on 64-bit Windows w/ Python 3.5.\u001b[0m\u001b[0;34m\u001b[0m\u001b[0;34m\u001b[0m\u001b[0m\n\u001b[1;32m    484\u001b[0m     \u001b[0mpermutation\u001b[0m \u001b[0;34m=\u001b[0m \u001b[0mnp\u001b[0m\u001b[0;34m.\u001b[0m\u001b[0masarray\u001b[0m\u001b[0;34m(\u001b[0m\u001b[0mpermutation\u001b[0m\u001b[0;34m,\u001b[0m \u001b[0mdtype\u001b[0m\u001b[0;34m=\u001b[0m\u001b[0mnp\u001b[0m\u001b[0;34m.\u001b[0m\u001b[0mintp\u001b[0m\u001b[0;34m)\u001b[0m\u001b[0;34m\u001b[0m\u001b[0m\n\u001b[0;32m--> 485\u001b[0;31m     \u001b[0;32mreturn\u001b[0m \u001b[0m_update_cdnmf_fast\u001b[0m\u001b[0;34m(\u001b[0m\u001b[0mW\u001b[0m\u001b[0;34m,\u001b[0m \u001b[0mHHt\u001b[0m\u001b[0;34m,\u001b[0m \u001b[0mXHt\u001b[0m\u001b[0;34m,\u001b[0m \u001b[0mpermutation\u001b[0m\u001b[0;34m)\u001b[0m\u001b[0;34m\u001b[0m\u001b[0m\n\u001b[0m\u001b[1;32m    486\u001b[0m \u001b[0;34m\u001b[0m\u001b[0m\n\u001b[1;32m    487\u001b[0m \u001b[0;34m\u001b[0m\u001b[0m\n",
      "\u001b[0;31mKeyboardInterrupt\u001b[0m: "
     ]
    }
   ],
   "source": [
    "num_subjects = len(SpecsLabels['SPEC_1'][0])\n",
    "opt_n_features = {}\n",
    "\n",
    "#XTRAIN = np.zeros((num_subjects,), dtype=np.object)3XTEST = np.zeros((num_subjects,), dtype=np.object)\n",
    "\n",
    "zipped_data = zip(SpecsLabels['SPEC_1'][0],SpecsLabels['ANNOT_1'][0],SpecsLabels['ANNOTORIG_1'][0],\n",
    "          SpecsLabels['SPEC_2'][0],SpecsLabels['ANNOT_2'][0],SpecsLabels['ANNOTORIG_2'][0])\n",
    "sub_counter = 0\n",
    "\n",
    "for x1,y1_4,y1_6,x2,y2_4,y2_6 in zipped_data:\n",
    "    d, model = find_optimum_nnmf_dims(x1)\n",
    "    n_features = d['nnmf_dim']\n",
    "    opt_n_features['Subject_' + str(sub_counter)] = d\n",
    "    xtrain = model.fit_transform(x1)\n",
    "    spec_recon_train = inverse_transform(xtrain)\n",
    "    xtest = model.transform(x2)\n",
    "    spec_recon_test = inverse_transform(xtest)\n",
    "    data = pd.concat([pd.DataFrame(xtrain),pd.DataFrame(y1_4),pd.DataFrame(y1_6),\n",
    "                     pd.DataFrame(xtest), pd.DataFrame(y2_4), pd.DataFrame(y2_6)], axis=1, ignore_index = True)\n",
    "    index = pd.MultiIndex.from_tuples(col_names_tuple(n_features), names=['Sets', 'Dataspec', 'columns'])\n",
    "    data.columns = index\n",
    "    data.to_pickle('/zhome/49/7/76434/Documents/Data/NNMFandLabelsSubject_' + str(sub_counter) + '.pckl')\n",
    "    \n",
    "    data_recon = pd.concat([pd.DataFrame(spec) for spec in [spec_recon_train, spec_recon_test]], \n",
    "                           axis=1, ignore_index=True)\n",
    "    index_recon = pd.MultiIndex.from_tuples(col_recon_tuple(), names=['Sets', 'columns'])\n",
    "    data_recon.columns = index_recon\n",
    "    \n",
    "    data_recon.to_pickle('/zhome/49/7/76434/Documents/Data/ReconstructedDataSubject_' + str(sub_counter) + '.pckl')\n",
    "    \n",
    "    sub_counter += 1\n",
    "    \n",
    "json.dump(opt_n_features,'/zhome/49/7/76434/Documents/Data/OptDimDict.json')    \n"
   ]
  },
  {
   "cell_type": "code",
   "execution_count": 47,
   "metadata": {},
   "outputs": [
    {
     "name": "stdout",
     "output_type": "stream",
     "text": [
      "MultiIndex(levels=[[u'test', u'val'], [u'X', u'y_c4', u'y_c6'], [0, 1, 2, 3, 4, 5, 6, 7, 8, 9, 10, 11, 12, 13, 14, 15, 16, 17, 18, 19, 20, 21, 22, 23, 24, 25, 26, 27, 28, 29, 30, 31, 32, 33, 34, 35, 36, 37, 38, 39]],\n",
      "           labels=[[1, 1, 1, 1, 1, 1, 1, 1, 1, 1, 1, 1, 1, 1, 1, 1, 1, 1, 1, 1, 1, 1, 1, 1, 1, 1, 1, 1, 1, 1, 1, 1, 1, 1, 1, 1, 1, 1, 1, 1, 1, 1, 0, 0, 0, 0, 0, 0, 0, 0, 0, 0, 0, 0, 0, 0, 0, 0, 0, 0, 0, 0, 0, 0, 0, 0, 0, 0, 0, 0, 0, 0, 0, 0, 0, 0, 0, 0, 0, 0, 0, 0, 0, 0], [0, 0, 0, 0, 0, 0, 0, 0, 0, 0, 0, 0, 0, 0, 0, 0, 0, 0, 0, 0, 0, 0, 0, 0, 0, 0, 0, 0, 0, 0, 0, 0, 0, 0, 0, 0, 0, 0, 0, 0, 1, 2, 0, 0, 0, 0, 0, 0, 0, 0, 0, 0, 0, 0, 0, 0, 0, 0, 0, 0, 0, 0, 0, 0, 0, 0, 0, 0, 0, 0, 0, 0, 0, 0, 0, 0, 0, 0, 0, 0, 0, 0, 1, 2], [0, 1, 2, 3, 4, 5, 6, 7, 8, 9, 10, 11, 12, 13, 14, 15, 16, 17, 18, 19, 20, 21, 22, 23, 24, 25, 26, 27, 28, 29, 30, 31, 32, 33, 34, 35, 36, 37, 38, 39, 1, 1, 0, 1, 2, 3, 4, 5, 6, 7, 8, 9, 10, 11, 12, 13, 14, 15, 16, 17, 18, 19, 20, 21, 22, 23, 24, 25, 26, 27, 28, 29, 30, 31, 32, 33, 34, 35, 36, 37, 38, 39, 1, 1]],\n",
      "           names=[u'Sets', u'Dataspec', u'columns'])\n"
     ]
    }
   ],
   "source": [
    "print index"
   ]
  },
  {
   "cell_type": "markdown",
   "metadata": {},
   "source": [
    "# GMM"
   ]
  },
  {
   "cell_type": "markdown",
   "metadata": {},
   "source": [
    "## Make synthetic dataset"
   ]
  },
  {
   "cell_type": "code",
   "execution_count": 3,
   "metadata": {
    "collapsed": true
   },
   "outputs": [],
   "source": [
    "import numpy as np\n",
    "import pandas as pd\n",
    "import matplotlib.pyplot as plt\n"
   ]
  },
  {
   "cell_type": "code",
   "execution_count": 7,
   "metadata": {
    "collapsed": true
   },
   "outputs": [],
   "source": [
    "def col_names_tuple(n_features):\n",
    "    row1_colnames = [ [\"val\"]*(n_features + 2), [\"test\"]*(n_features + 2) ]\n",
    "    row2_colnames = [ [\"X\"]*n_features, [\"y_c4\"], [\"y_c6\"] ]*2\n",
    "    row3_colnames = [range(n_features), [1]*2] * 2\n",
    "    \n",
    "    col_names = map(flatten,[ row1_colnames, row2_colnames, row3_colnames])\n",
    "    \n",
    "    return list(zip(*col_names))"
   ]
  },
  {
   "cell_type": "code",
   "execution_count": 11,
   "metadata": {
    "collapsed": true
   },
   "outputs": [],
   "source": [
    "# funciton for flattening lists\n",
    "flatten = lambda l: [item for sublist in l for item in sublist]"
   ]
  },
  {
   "cell_type": "code",
   "execution_count": 28,
   "metadata": {
    "collapsed": true
   },
   "outputs": [],
   "source": [
    "def get_synthetic_dataset():\n",
    "    N = 100\n",
    "    N_labels = 10\n",
    "    mean_value = 2\n",
    "    wrongLabelFrac = 2.0/3.0\n",
    "    mean1 = np.array([1, 1])*mean_value\n",
    "    mean2 = -mean1\n",
    "    cov1 = [[1, 0.5], [0.5, 1]]\n",
    "    cov2 = [[1, -0.5], [-0.5, 1]]\n",
    "    n_features = 2\n",
    "    \n",
    "    x1, y1 = np.random.multivariate_normal(mean1, cov1, N).T\n",
    "    x2, y2 = np.random.multivariate_normal(mean2, cov2, N).T\n",
    "    \n",
    "    labels1 = np.random.permutation(np.append(np.append(np.ones([int(round(N_labels*wrongLabelFrac)),1],dtype=np.int8), \n",
    "                    np.ones([int(round(N_labels*(1-wrongLabelFrac))),1],dtype=np.int8)*2), \n",
    "                    np.zeros([N-N_labels,1],dtype=np.int8)))\n",
    "    \n",
    "    labels2 = np.random.permutation(np.append(np.append(np.ones([int(round(N_labels*wrongLabelFrac)),1],dtype=np.int8)*2,\n",
    "                    np.ones([int(round(N_labels*(1-wrongLabelFrac))),1],dtype=np.int8)), \n",
    "                    np.zeros([N-N_labels,1],dtype=np.int8)))\n",
    "    \n",
    "    data = pd.concat([pd.DataFrame(x1), pd.DataFrame(y1), pd.DataFrame(labels1), pd.DataFrame(labels1),\n",
    "                 pd.DataFrame(x2), pd.DataFrame(y2), pd.DataFrame(labels2), pd.DataFrame(labels2)], axis=1, ignore_index = True)\n",
    "    \n",
    "    index = pd.MultiIndex.from_tuples(col_names_tuple(n_features), names = ['sets', 'dataspec', 'columns'])\n",
    "    data.columns = index\n",
    "    \n",
    "    return data"
   ]
  },
  {
   "cell_type": "code",
   "execution_count": 29,
   "metadata": {
    "scrolled": true
   },
   "outputs": [
    {
     "name": "stdout",
     "output_type": "stream",
     "text": [
      "sets           val                          test                    \n",
      "dataspec         X           y_c4 y_c6         X           y_c4 y_c6\n",
      "columns          0         1    1    1         0         1    1    1\n",
      "0         3.198531  2.492364    0    0 -1.341622 -3.438339    0    0\n",
      "1         1.516091  2.740435    0    0 -2.809086 -3.393853    0    0\n",
      "2         1.441828  2.296428    0    0 -2.066180 -1.095390    0    0\n",
      "3         0.580059  2.258693    0    0 -2.331700 -1.762819    0    0\n",
      "4         0.080982  0.787015    0    0 -2.459751 -1.390109    0    0\n",
      "5         1.223831  1.907615    0    0 -1.180408 -1.762890    0    0\n",
      "6         0.423431  0.726080    0    0 -2.163887 -2.107938    0    0\n",
      "7         1.818949  1.405503    1    1 -0.978910 -2.566349    0    0\n",
      "8         0.615898  0.636456    0    0 -2.294618  0.569881    0    0\n",
      "9         0.722853  1.861950    0    0 -2.392394 -1.901298    0    0\n",
      "10        2.280702  3.099235    0    0 -2.429912 -1.765417    0    0\n",
      "11        2.084533  3.674428    0    0 -3.443085 -1.638281    0    0\n",
      "12        2.819030  2.676137    0    0 -4.147202 -1.369278    0    0\n",
      "13        1.964562  2.363368    0    0 -1.753083 -3.693984    2    2\n",
      "14        2.311234  1.911944    0    0 -1.016030 -2.663117    0    0\n",
      "15        2.704815  1.857153    0    0 -2.196746 -2.464525    0    0\n",
      "16        1.760346  2.037760    0    0 -3.000505 -0.463982    0    0\n",
      "17        1.981041  1.054584    0    0 -1.630642 -2.476358    0    0\n",
      "18        1.482900  1.892841    0    0 -2.987348 -2.490573    0    0\n",
      "19        2.584832  1.995965    0    0 -1.996567 -3.492377    0    0\n",
      "20        2.668235  4.064365    0    0 -0.915126 -2.655110    0    0\n",
      "21        0.780627  0.144826    0    0 -2.961785 -1.393629    0    0\n",
      "22        2.111684  2.636483    0    0 -0.659724 -4.187532    0    0\n",
      "23        2.405784  2.866089    0    0 -2.776153 -2.027115    0    0\n",
      "24        2.540359  2.116111    0    0 -0.730558 -2.755705    2    2\n",
      "25        0.803467  1.397750    0    0 -0.372914 -2.734965    0    0\n",
      "26        1.867141  2.061521    0    0 -3.230808 -1.881300    1    1\n",
      "27        2.990366  2.223513    0    0 -2.670353 -1.759859    0    0\n",
      "28        2.847450  2.664633    0    0 -2.573045 -2.249656    2    2\n",
      "29        2.995347  3.085470    0    0 -2.509825 -2.747977    0    0\n",
      "..             ...       ...  ...  ...       ...       ...  ...  ...\n",
      "70        1.676490  1.700684    0    0 -2.728600 -0.588317    0    0\n",
      "71        3.164910  1.572307    0    0 -2.959953 -1.791789    0    0\n",
      "72        2.784458  3.351661    0    0 -1.496984 -2.084291    0    0\n",
      "73        2.468093  2.260752    1    1 -1.615245 -3.102256    0    0\n",
      "74        2.706785  2.567877    2    2 -2.637280 -0.441047    0    0\n",
      "75        2.141451  2.444710    0    0 -1.357690 -1.676953    0    0\n",
      "76        2.716684  2.486391    0    0 -3.109221 -1.782260    0    0\n",
      "77        2.940019  2.830550    0    0 -2.063414 -2.160071    0    0\n",
      "78        1.196667  1.876189    0    0 -2.980783 -0.196857    0    0\n",
      "79        3.169687  1.212630    0    0 -2.360529 -1.649468    0    0\n",
      "80        4.382068  1.659933    0    0 -0.671983 -2.151959    0    0\n",
      "81        3.066571  2.517876    0    0 -3.376304 -1.372162    0    0\n",
      "82        1.574464  2.149320    0    0 -3.143569 -1.923300    0    0\n",
      "83        1.776324  2.190409    0    0 -4.511900 -1.913140    0    0\n",
      "84        1.400587  1.987551    0    0 -1.075219 -0.869870    0    0\n",
      "85        1.836549  1.576295    0    0 -0.769708 -2.021717    0    0\n",
      "86        1.913010  1.882392    0    0 -2.297922 -2.274144    0    0\n",
      "87        2.023390  2.563850    0    0 -3.298311 -0.925229    0    0\n",
      "88        2.747470  1.204165    1    1 -1.934905 -2.377177    2    2\n",
      "89        1.719255  1.701123    0    0 -1.391143 -2.338890    0    0\n",
      "90       -0.133528  0.237603    0    0 -2.544409 -1.216345    0    0\n",
      "91        2.064197  1.542606    1    1 -2.280448 -3.750707    2    2\n",
      "92        1.621704  0.471108    0    0 -1.997675 -1.896727    0    0\n",
      "93        1.634605  1.036973    0    0 -2.862358 -1.037299    0    0\n",
      "94        2.374616  3.216588    0    0 -4.217626  0.010424    0    0\n",
      "95        2.069593  3.505542    0    0 -3.017526 -0.664444    0    0\n",
      "96        0.330424  1.054401    0    0 -0.704228 -0.857476    0    0\n",
      "97        0.350830  0.618425    0    0 -2.726051 -1.193871    0    0\n",
      "98        2.542597  2.804600    0    0 -0.491062 -3.666696    0    0\n",
      "99        1.393027  1.408837    0    0 -1.569857 -2.695848    0    0\n",
      "\n",
      "[100 rows x 8 columns]\n"
     ]
    }
   ],
   "source": [
    "\n",
    "\n",
    "data = get_synthetic_dataset()\n",
    "print data"
   ]
  },
  {
   "cell_type": "code",
   "execution_count": null,
   "metadata": {
    "collapsed": true
   },
   "outputs": [],
   "source": [
    "plt.close()\n",
    "plt.plot(dataset.x1, dataset.y1, 'v', color = '0.75')\n",
    "plt.plot(dataset.x2, dataset.y2, 'o', color = '0.75')\n",
    "plt.plot(dataset.x1[labels1==1], dataset.y1[labels1==1], 'v', color = 'b')\n",
    "plt.plot(dataset.x1[labels1==2], dataset.y1[labels1==2], 'v', color = 'r')\n",
    "plt.plot(dataset.x2[labels2==1], dataset.y2[labels2==1], 'o', color = 'b')\n",
    "plt.plot(dataset.x2[labels2==2], dataset.y2[labels2==2], 'o', color = 'r')\n",
    "plt.axis('equal')\n",
    "plt.show()"
   ]
  },
  {
   "cell_type": "markdown",
   "metadata": {},
   "source": [
    "# Play with database"
   ]
  },
  {
   "cell_type": "code",
   "execution_count": 1,
   "metadata": {
    "collapsed": true
   },
   "outputs": [],
   "source": [
    "from sqlalchemy import create_engine\n",
    "from sqlalchemy import MetaData\n",
    "from sqlalchemy.ext.declarative import declarative_base\n",
    "from sqlalchemy.orm import sessionmaker\n",
    "#from to_sql import *\n",
    "from datetime import datetime\n",
    "from sqlalchemy import Column, Integer, String\n"
   ]
  },
  {
   "cell_type": "code",
   "execution_count": null,
   "metadata": {
    "collapsed": true
   },
   "outputs": [],
   "source": []
  },
  {
   "cell_type": "code",
   "execution_count": null,
   "metadata": {
    "collapsed": true
   },
   "outputs": [],
   "source": []
  },
  {
   "cell_type": "code",
   "execution_count": 3,
   "metadata": {
    "collapsed": true
   },
   "outputs": [],
   "source": [
    "#engine = create_engine('sqlite:///DataBase/sleep_performance.db', echo = False)\n",
    "engine = create_engine('sqlite:///DataBase/ourDB.db', echo = True)\n",
    "\n",
    "Base = declarative_base()"
   ]
  },
  {
   "cell_type": "code",
   "execution_count": 4,
   "metadata": {
    "collapsed": true
   },
   "outputs": [],
   "source": [
    "class User(Base):\n",
    "    __tablename__ = 'users'\n",
    "    id = Column(Integer, primary_key=True)\n",
    "    name = Column(String)\n",
    "    fullname = Column(String)\n",
    "    password = Column(String)\n",
    "    \n",
    "    def __repr__(self):\n",
    "       return \"<User(name='%s', fullname='%s', password='%s')>\" % (\n",
    "                            self.name, self.fullname, self.password)"
   ]
  },
  {
   "cell_type": "code",
   "execution_count": 5,
   "metadata": {},
   "outputs": [
    {
     "data": {
      "text/plain": [
       "Table('users', MetaData(bind=None), Column('id', Integer(), table=<users>, primary_key=True, nullable=False), Column('name', String(), table=<users>), Column('fullname', String(), table=<users>), Column('password', String(), table=<users>), schema=None)"
      ]
     },
     "execution_count": 5,
     "metadata": {},
     "output_type": "execute_result"
    }
   ],
   "source": [
    "User.__table__"
   ]
  },
  {
   "cell_type": "code",
   "execution_count": 6,
   "metadata": {
    "collapsed": true
   },
   "outputs": [],
   "source": [
    "Base.metadata.create_all(engine)"
   ]
  },
  {
   "cell_type": "code",
   "execution_count": 7,
   "metadata": {},
   "outputs": [
    {
     "data": {
      "text/plain": [
       "'ed'"
      ]
     },
     "execution_count": 7,
     "metadata": {},
     "output_type": "execute_result"
    }
   ],
   "source": [
    "ed_user = User(name='ed', fullname='Ed Jones', password='edspassword')\n",
    "se"
   ]
  },
  {
   "cell_type": "code",
   "execution_count": 9,
   "metadata": {},
   "outputs": [
    {
     "name": "stdout",
     "output_type": "stream",
     "text": [
      "edspassword\n"
     ]
    },
    {
     "data": {
      "text/plain": [
       "'None'"
      ]
     },
     "execution_count": 9,
     "metadata": {},
     "output_type": "execute_result"
    }
   ],
   "source": [
    "print ed_user.password\n",
    "str(ed_user.id)"
   ]
  },
  {
   "cell_type": "code",
   "execution_count": 11,
   "metadata": {
    "collapsed": true
   },
   "outputs": [],
   "source": [
    "Session = sessionmaker(bind=engine)\n",
    "session = Session()"
   ]
  },
  {
   "cell_type": "code",
   "execution_count": 14,
   "metadata": {
    "collapsed": true
   },
   "outputs": [],
   "source": [
    "session.add(ed_user)"
   ]
  },
  {
   "cell_type": "code",
   "execution_count": 15,
   "metadata": {
    "collapsed": true
   },
   "outputs": [],
   "source": [
    "our_user = session.query(User).filter_by(name='ed').first()"
   ]
  },
  {
   "cell_type": "code",
   "execution_count": 16,
   "metadata": {},
   "outputs": [
    {
     "name": "stdout",
     "output_type": "stream",
     "text": [
      "<User(name='ed', fullname='Ed Jones', password='edspassword')>\n"
     ]
    }
   ],
   "source": [
    "print our_user"
   ]
  },
  {
   "cell_type": "code",
   "execution_count": 17,
   "metadata": {
    "collapsed": true
   },
   "outputs": [],
   "source": [
    "session.add_all([\n",
    "    User(name='wendy', fullname='Wendy Williams', password='foobar'),\n",
    "    User(name='mary', fullname='Mary Contrary', password='xxg527'),\n",
    "    User(name='fred', fullname='Fred Flinstone', password='blah')])"
   ]
  },
  {
   "cell_type": "code",
   "execution_count": 18,
   "metadata": {
    "collapsed": true
   },
   "outputs": [],
   "source": [
    "session.commit()"
   ]
  },
  {
   "cell_type": "code",
   "execution_count": null,
   "metadata": {
    "collapsed": true
   },
   "outputs": [],
   "source": []
  }
 ],
 "metadata": {
  "kernelspec": {
   "display_name": "Python 2",
   "language": "python",
   "name": "python2"
  },
  "language_info": {
   "codemirror_mode": {
    "name": "ipython",
    "version": 2
   },
   "file_extension": ".py",
   "mimetype": "text/x-python",
   "name": "python",
   "nbconvert_exporter": "python",
   "pygments_lexer": "ipython2",
   "version": "2.7.13"
  }
 },
 "nbformat": 4,
 "nbformat_minor": 2
}
