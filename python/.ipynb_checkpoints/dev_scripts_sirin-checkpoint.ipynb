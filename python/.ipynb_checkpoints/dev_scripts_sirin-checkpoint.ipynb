{
 "cells": [
  {
   "cell_type": "code",
   "execution_count": 3,
   "metadata": {
    "collapsed": true
   },
   "outputs": [],
   "source": [
    "from sklearn.metrics import confusion_matrix\n",
    "import pandas as pd\n",
    "import numpy as np"
   ]
  },
  {
   "cell_type": "code",
   "execution_count": 26,
   "metadata": {
    "collapsed": true
   },
   "outputs": [],
   "source": [
    "def predict(X):\n",
    "    return X[:,0]"
   ]
  },
  {
   "cell_type": "code",
   "execution_count": 53,
   "metadata": {
    "collapsed": true
   },
   "outputs": [],
   "source": [
    "def confMat(X,y_true):\n",
    "    y_pred = predict(X)\n",
    "    cm = confusion_matrix(y_true, y_pred)\n",
    "    cm = cm.astype('float') / cm.sum(axis=1)[:, np.newaxis]\n",
    "    cm_pd = pd.DataFrame(cm)\n",
    "    col_index = [(\"Pred\",\"Wake\"), (\"Pred\",\"REM\"), (\"Pred\", \"Light Sl.\"), (\"Pred\", \"Deep Sl.\")]\n",
    "    row_index = [(\"True\",\"Wake\"), (\"True\",\"REM\"), (\"True\", \"Light Sl.\"), (\"True\", \"Deep Sl.\")]\n",
    "    col_index = pd.MultiIndex.from_tuples(col_index, names=['Labels', 'Class',])\n",
    "    row_index = pd.MultiIndex.from_tuples(row_index, names=['Labels', 'Class',])\n",
    "    cm_pd.columns = col_index\n",
    "    cm_pd.index = row_index\n",
    "    return cm_pd"
   ]
  },
  {
   "cell_type": "code",
   "execution_count": 54,
   "metadata": {},
   "outputs": [
    {
     "name": "stdout",
     "output_type": "stream",
     "text": [
      "[3 1 1 0 2 0 2 3]\n"
     ]
    }
   ],
   "source": [
    "y_true = np.random.permutation([ 0, 0, 1, 1, 2, 2, 3, 3])\n",
    "print y_true"
   ]
  },
  {
   "cell_type": "code",
   "execution_count": 55,
   "metadata": {},
   "outputs": [
    {
     "name": "stdout",
     "output_type": "stream",
     "text": [
      "[[3 3 3 3]\n",
      " [0 0 0 0]\n",
      " [1 1 1 1]\n",
      " [0 0 0 0]\n",
      " [3 3 3 3]\n",
      " [2 2 2 2]\n",
      " [2 2 2 2]\n",
      " [1 1 1 1]]\n"
     ]
    }
   ],
   "source": [
    "X = np.array([[0]*4, [1]*4 , [2]*4, [3]*4, [0]*4, [1]*4 , [2]*4, [3]*4])\n",
    "X = np.random.permutation(X)\n",
    "print X\n"
   ]
  },
  {
   "cell_type": "code",
   "execution_count": 56,
   "metadata": {},
   "outputs": [
    {
     "name": "stdout",
     "output_type": "stream",
     "text": [
      "Labels           Pred                        \n",
      "Class            Wake  REM Light Sl. Deep Sl.\n",
      "Labels Class                                 \n",
      "True   Wake       0.5  0.0       0.5      0.0\n",
      "       REM        0.5  0.5       0.0      0.0\n",
      "       Light Sl.  0.0  0.0       0.5      0.5\n",
      "       Deep Sl.   0.0  0.5       0.0      0.5\n"
     ]
    }
   ],
   "source": [
    "c = confMat(X, y_true)\n",
    "print c"
   ]
  }
 ],
 "metadata": {
  "kernelspec": {
   "display_name": "Python [conda root]",
   "language": "python",
   "name": "conda-root-py"
  },
  "language_info": {
   "codemirror_mode": {
    "name": "ipython",
    "version": 2
   },
   "file_extension": ".py",
   "mimetype": "text/x-python",
   "name": "python",
   "nbconvert_exporter": "python",
   "pygments_lexer": "ipython2",
   "version": "2.7.13"
  }
 },
 "nbformat": 4,
 "nbformat_minor": 2
}
