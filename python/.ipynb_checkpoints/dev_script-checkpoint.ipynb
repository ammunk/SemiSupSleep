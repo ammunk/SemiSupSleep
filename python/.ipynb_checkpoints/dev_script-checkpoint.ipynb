{
 "cells": [
  {
   "cell_type": "code",
   "execution_count": 26,
   "metadata": {
    "collapsed": true
   },
   "outputs": [],
   "source": [
    "# Import modules\n",
    "import json\n",
    "from sqlalchemy import Text, create_engine, Integer, String, Column, DateTime, JSON\n",
    "from sqlalchemy.ext.declarative import declarative_base\n",
    "from sqlalchemy.orm import sessionmaker\n",
    "from datetime import datetime\n",
    "from sqlalchemy.types import TypeDecorator"
   ]
  },
  {
   "cell_type": "code",
   "execution_count": 27,
   "metadata": {},
   "outputs": [
    {
     "name": "stdout",
     "output_type": "stream",
     "text": [
      "2017-07-25 16:30:25,856 INFO sqlalchemy.engine.base.Engine SELECT CAST('test plain returns' AS VARCHAR(60)) AS anon_1\n",
      "2017-07-25 16:30:25,857 INFO sqlalchemy.engine.base.Engine ()\n",
      "2017-07-25 16:30:25,860 INFO sqlalchemy.engine.base.Engine SELECT CAST('test unicode returns' AS VARCHAR(60)) AS anon_1\n",
      "2017-07-25 16:30:25,860 INFO sqlalchemy.engine.base.Engine ()\n",
      "2017-07-25 16:30:25,861 INFO sqlalchemy.engine.base.Engine PRAGMA table_info(\"opt_models\")\n",
      "2017-07-25 16:30:25,862 INFO sqlalchemy.engine.base.Engine ()\n",
      "2017-07-25 16:30:25,863 INFO sqlalchemy.engine.base.Engine \n",
      "CREATE TABLE opt_models (\n",
      "\tid INTEGER NOT NULL, \n",
      "\tn_cluster INTEGER, \n",
      "\tcreated_at DATETIME, \n",
      "\tcv_results TEXT(256), \n",
      "\tPRIMARY KEY (id)\n",
      ")\n",
      "\n",
      "\n",
      "2017-07-25 16:30:25,864 INFO sqlalchemy.engine.base.Engine ()\n",
      "2017-07-25 16:30:25,898 INFO sqlalchemy.engine.base.Engine COMMIT\n"
     ]
    }
   ],
   "source": [
    "engine = create_engine('sqlite:///sleep_performance.db', echo = True)\n",
    "\n",
    "Base = declarative_base()\n",
    "\n",
    "\n",
    "SIZE = 256\n",
    "# You can create a custom type by subclassing sqlalchemy.types.\n",
    "# TypeDecorator to handle serialization and deserialization to Text.\n",
    "class TextPickleType(TypeDecorator):\n",
    "\n",
    "    impl = Text(SIZE)\n",
    "\n",
    "    def process_bind_param(self, value, dialect):\n",
    "        if value is not None:\n",
    "            value = json.dumps(value)\n",
    "\n",
    "        return value\n",
    "\n",
    "    def process_result_value(self, value, dialect):\n",
    "        if value is not None:\n",
    "            value = json.loads(value)\n",
    "        return value\n",
    "\n",
    "class OptModel(Base):\n",
    "    __tablename__ = 'opt_models'\n",
    "\n",
    "    id = Column(Integer, primary_key = True)\n",
    "    n_cluster = Column(Integer)\n",
    "    created_at = Column(DateTime, default = datetime.now(), onupdate = datetime.now())\n",
    "    # JSON datatype works only with sqlalchemy CORE.. We use ORM\n",
    "    cv_results = Column(TextPickleType())\n",
    "\n",
    "\n",
    "Base.metadata.create_all(engine)\n",
    "\n",
    "\n",
    "keys = ['n_cluster', 'cv_results']\n",
    "\n",
    "fun = [5, {'a': '5', 'b': '10'} ]\n",
    "\n",
    "an_opt_model = OptModel(**{key: value for key, value in zip(keys ,fun[1:])})\n",
    "\n",
    "Session = sessionmaker(bind = engine)\n",
    "\n",
    "session = Session()\n",
    "\n",
    "session.add(an_opt_model)"
   ]
  },
  {
   "cell_type": "code",
   "execution_count": 15,
   "metadata": {
    "collapsed": true
   },
   "outputs": [],
   "source": [
    "import scipy.io as sio\n",
    "from sklearn.decomposition import NMF"
   ]
  },
  {
   "cell_type": "code",
   "execution_count": 2,
   "metadata": {
    "collapsed": true
   },
   "outputs": [],
   "source": [
    "spec_path ='/zhome/49/7/76434/Documents/Data/SpecsAndLabels.mat'"
   ]
  },
  {
   "cell_type": "code",
   "execution_count": 3,
   "metadata": {
    "collapsed": true
   },
   "outputs": [],
   "source": [
    "SaL = sio.loadmat(spec_path)"
   ]
  },
  {
   "cell_type": "code",
   "execution_count": 31,
   "metadata": {
    "collapsed": true
   },
   "outputs": [],
   "source": [
    "spec1 = SaL['SPEC_1'][0][0]\n",
    "spec2 = SaL['SPEC_2'][0][0]"
   ]
  },
  {
   "cell_type": "code",
   "execution_count": 32,
   "metadata": {},
   "outputs": [
    {
     "data": {
      "text/plain": [
       "(781, 2048)"
      ]
     },
     "execution_count": 32,
     "metadata": {},
     "output_type": "execute_result"
    }
   ],
   "source": [
    "spec1.shape"
   ]
  },
  {
   "cell_type": "code",
   "execution_count": 40,
   "metadata": {
    "collapsed": true
   },
   "outputs": [],
   "source": [
    "model = NMF(n_components=30, init='nndsvd', random_state=0)\n",
    "W1 = model.fit_transform(spec1)\n",
    "spec1_transf = model.inverse_transform(W1)\n",
    "recon_error = model.reconstruction_err_"
   ]
  },
  {
   "cell_type": "code",
   "execution_count": 41,
   "metadata": {},
   "outputs": [
    {
     "name": "stdout",
     "output_type": "stream",
     "text": [
      "(781, 30)\n",
      "(781, 2048)\n"
     ]
    }
   ],
   "source": [
    "print W1.shape\n",
    "print spec1_transf.shape"
   ]
  },
  {
   "cell_type": "code",
   "execution_count": 42,
   "metadata": {
    "collapsed": true
   },
   "outputs": [],
   "source": [
    "W2 = model.transform(spec2)\n",
    "spec2_transf = model.inverse_transform(W2)"
   ]
  },
  {
   "cell_type": "code",
   "execution_count": 43,
   "metadata": {},
   "outputs": [
    {
     "name": "stdout",
     "output_type": "stream",
     "text": [
      "(1067, 30)\n",
      "(1067, 2048)\n"
     ]
    }
   ],
   "source": [
    "print W2.shape\n",
    "print spec2_transf.shape"
   ]
  },
  {
   "cell_type": "code",
   "execution_count": 44,
   "metadata": {
    "collapsed": true
   },
   "outputs": [],
   "source": [
    "result_path ='/zhome/49/7/76434/Documents/TestSpecs.mat'"
   ]
  },
  {
   "cell_type": "code",
   "execution_count": 45,
   "metadata": {
    "collapsed": true
   },
   "outputs": [],
   "source": [
    "sio.savemat(result_path, {'spec1_transf': spec1_transf, 'spec2_transf': spec2_transf, \n",
    "                          'W1': W1, 'W2': W2, 'spec1': spec1, 'spec2': spec2})"
   ]
  },
  {
   "cell_type": "code",
   "execution_count": 35,
   "metadata": {
    "collapsed": true
   },
   "outputs": [],
   "source": [
    "from sklearn.decomposition import NMF\n",
    "import scipy.io as sio\n",
    "import numpy as np\n",
    "import matplotlib.pyplot as plt\n",
    "import json \n",
    "import pandas as pd"
   ]
  },
  {
   "cell_type": "code",
   "execution_count": 23,
   "metadata": {
    "collapsed": true
   },
   "outputs": [],
   "source": [
    "file_name = \"/zhome/49/7/76434/Documents/Data/SpecsAndLabels.mat\"\n",
    "SpecsLabels = sio.loadmat(file_name)"
   ]
  },
  {
   "cell_type": "code",
   "execution_count": 81,
   "metadata": {},
   "outputs": [
    {
     "data": {
      "text/plain": [
       "(1043, 2048)"
      ]
     },
     "execution_count": 81,
     "metadata": {},
     "output_type": "execute_result"
    }
   ],
   "source": [
    "SpecsLabels['SPEC_1'][0][1].shape"
   ]
  },
  {
   "cell_type": "code",
   "execution_count": 37,
   "metadata": {
    "collapsed": true
   },
   "outputs": [],
   "source": [
    "def compute_nnmf_logLik(subject_spec1,nnmf_recon):\n",
    "    \n",
    "    [r, c] = subject_spec1.shape\n",
    "\n",
    "    diffSq = (nnmf_recon - subject_spec1)**2\n",
    "    sigma = np.sum(diffSq) / (r*c)\n",
    "    \n",
    "    #print \"sigma = \", sigma\n",
    "    # inverse variance\n",
    "    beta = 1 / sigma\n",
    "\n",
    "    negLoglike = - beta * np.sum(diffSq)/2 + r * c * np.log(beta) / 2 - r * c * np.log(2 * np.pi) / 2\n",
    "    return negLoglike"
   ]
  },
  {
   "cell_type": "code",
   "execution_count": 38,
   "metadata": {
    "collapsed": true
   },
   "outputs": [],
   "source": [
    "def find_optimum_nnmf_dims(subject_spec1):\n",
    "    \n",
    "    lowest_BIC = np.inf\n",
    "    opt_dim = 0\n",
    "    \n",
    "    BIC_values = []\n",
    "    dim_values = range(10,100,10)\n",
    "    \n",
    "    [r, c] = subject_spec1.shape\n",
    "    \n",
    "    for n in dim_values:\n",
    "        #print \"\\nNumber of NNMF dims = \", n\n",
    "        model = NMF(n_components=n, init='nndsvd', random_state=0)\n",
    "        W1 = model.fit_transform(subject_spec1)\n",
    "        nnmf_recon = model.inverse_transform(W1)\n",
    "        \n",
    "        negLoglike = compute_nnmf_logLik(subject_spec1,nnmf_recon)\n",
    "        Q = n*(r + c)\n",
    "        \n",
    "        current_BIC = -2 * negLoglike + 2 * Q * np.log(r * c) / 2;\n",
    "        #print \"Log Likelihood = \", negLoglike\n",
    "        #print \"Q = \", Q\n",
    "        #print \"BIC = \", current_BIC\n",
    "        \n",
    "        BIC_values.append(current_BIC)\n",
    "        \n",
    "        if current_BIC < lowest_BIC:\n",
    "            lowest_BIC = current_BIC\n",
    "            opt_dim = n\n",
    "            best_model = model\n",
    "            \n",
    "    #plt.plot(dim_values, BIC_values)\n",
    "    #plt.ylabel('BIC')\n",
    "    #plt.xlabel('number of dimensions')\n",
    "    #plt.show()\n",
    "    print \"opt_dim = \", opt_dim\n",
    "    return {'nnmf_dim' : opt_dim, 'nnmf_BIC': lowest_BIC}, best_model"
   ]
  },
  {
   "cell_type": "code",
   "execution_count": 43,
   "metadata": {
    "collapsed": true
   },
   "outputs": [],
   "source": [
    "def col_names_tuple(n_features):\n",
    "    #global file_name\n",
    "    #row1_colnames = [[\"subject\"+str(x)]*(n_features*2 + 4) for x in range(1,20)]\n",
    "    row1_colnames = [ [\"val\"]*(n_features + 2), [\"test\"]*(n_features + 2) ]\n",
    "    row2_colnames = [ [\"X\"]*n_features, [\"y_c4\"], [\"y_c6\"] ]*2\n",
    "    row3_colnames = [range(n_features), [1]*2] * 2\n",
    "    \n",
    "    col_names = map(flatten,[ row1_colnames, row2_colnames, row3_colnames])\n",
    "    \n",
    "    return list(zip(*col_names))"
   ]
  },
  {
   "cell_type": "code",
   "execution_count": 51,
   "metadata": {
    "collapsed": true
   },
   "outputs": [],
   "source": [
    "def col_recon_tuple():\n",
    "    n_features = 2049\n",
    "    row1_colnames = [ [\"train\"]*(n_features), [\"test\"]*(n_features) ]\n",
    "    row2_colnames = [range(n_features * 2)]\n",
    "    \n",
    "    col_names = map(flatten,[ row1_colnames, row2_colnames])\n",
    "    \n",
    "    return list(zip(*col_names))"
   ]
  },
  {
   "cell_type": "code",
   "execution_count": 45,
   "metadata": {
    "collapsed": true
   },
   "outputs": [],
   "source": [
    "# funciton for flattening lists\n",
    "flatten = lambda l: [item for sublist in l for item in sublist]"
   ]
  },
  {
   "cell_type": "code",
   "execution_count": 53,
   "metadata": {},
   "outputs": [
    {
     "ename": "KeyboardInterrupt",
     "evalue": "",
     "output_type": "error",
     "traceback": [
      "\u001b[0;31m---------------------------------------------------------------------------\u001b[0m",
      "\u001b[0;31mKeyboardInterrupt\u001b[0m                         Traceback (most recent call last)",
      "\u001b[0;32m<ipython-input-53-d875a37784b1>\u001b[0m in \u001b[0;36m<module>\u001b[0;34m()\u001b[0m\n\u001b[1;32m      9\u001b[0m \u001b[0;34m\u001b[0m\u001b[0m\n\u001b[1;32m     10\u001b[0m \u001b[0;32mfor\u001b[0m \u001b[0mx1\u001b[0m\u001b[0;34m,\u001b[0m\u001b[0my1_4\u001b[0m\u001b[0;34m,\u001b[0m\u001b[0my1_6\u001b[0m\u001b[0;34m,\u001b[0m\u001b[0mx2\u001b[0m\u001b[0;34m,\u001b[0m\u001b[0my2_4\u001b[0m\u001b[0;34m,\u001b[0m\u001b[0my2_6\u001b[0m \u001b[0;32min\u001b[0m \u001b[0mzipped_data\u001b[0m\u001b[0;34m:\u001b[0m\u001b[0;34m\u001b[0m\u001b[0m\n\u001b[0;32m---> 11\u001b[0;31m     \u001b[0md\u001b[0m\u001b[0;34m,\u001b[0m \u001b[0mmodel\u001b[0m \u001b[0;34m=\u001b[0m \u001b[0mfind_optimum_nnmf_dims\u001b[0m\u001b[0;34m(\u001b[0m\u001b[0mx1\u001b[0m\u001b[0;34m)\u001b[0m\u001b[0;34m\u001b[0m\u001b[0m\n\u001b[0m\u001b[1;32m     12\u001b[0m     \u001b[0mn_features\u001b[0m \u001b[0;34m=\u001b[0m \u001b[0md\u001b[0m\u001b[0;34m[\u001b[0m\u001b[0;34m'nnmf_dim'\u001b[0m\u001b[0;34m]\u001b[0m\u001b[0;34m\u001b[0m\u001b[0m\n\u001b[1;32m     13\u001b[0m     \u001b[0mopt_n_features\u001b[0m\u001b[0;34m[\u001b[0m\u001b[0;34m'Subject_'\u001b[0m \u001b[0;34m+\u001b[0m \u001b[0mstr\u001b[0m\u001b[0;34m(\u001b[0m\u001b[0msub_counter\u001b[0m\u001b[0;34m)\u001b[0m\u001b[0;34m]\u001b[0m \u001b[0;34m=\u001b[0m \u001b[0md\u001b[0m\u001b[0;34m\u001b[0m\u001b[0m\n",
      "\u001b[0;32m<ipython-input-38-b9be408529c1>\u001b[0m in \u001b[0;36mfind_optimum_nnmf_dims\u001b[0;34m(subject_spec1)\u001b[0m\n\u001b[1;32m     12\u001b[0m         \u001b[0;31m#print \"\\nNumber of NNMF dims = \", n\u001b[0m\u001b[0;34m\u001b[0m\u001b[0;34m\u001b[0m\u001b[0m\n\u001b[1;32m     13\u001b[0m         \u001b[0mmodel\u001b[0m \u001b[0;34m=\u001b[0m \u001b[0mNMF\u001b[0m\u001b[0;34m(\u001b[0m\u001b[0mn_components\u001b[0m\u001b[0;34m=\u001b[0m\u001b[0mn\u001b[0m\u001b[0;34m,\u001b[0m \u001b[0minit\u001b[0m\u001b[0;34m=\u001b[0m\u001b[0;34m'nndsvd'\u001b[0m\u001b[0;34m,\u001b[0m \u001b[0mrandom_state\u001b[0m\u001b[0;34m=\u001b[0m\u001b[0;36m0\u001b[0m\u001b[0;34m)\u001b[0m\u001b[0;34m\u001b[0m\u001b[0m\n\u001b[0;32m---> 14\u001b[0;31m         \u001b[0mW1\u001b[0m \u001b[0;34m=\u001b[0m \u001b[0mmodel\u001b[0m\u001b[0;34m.\u001b[0m\u001b[0mfit_transform\u001b[0m\u001b[0;34m(\u001b[0m\u001b[0msubject_spec1\u001b[0m\u001b[0;34m)\u001b[0m\u001b[0;34m\u001b[0m\u001b[0m\n\u001b[0m\u001b[1;32m     15\u001b[0m         \u001b[0mnnmf_recon\u001b[0m \u001b[0;34m=\u001b[0m \u001b[0mmodel\u001b[0m\u001b[0;34m.\u001b[0m\u001b[0minverse_transform\u001b[0m\u001b[0;34m(\u001b[0m\u001b[0mW1\u001b[0m\u001b[0;34m)\u001b[0m\u001b[0;34m\u001b[0m\u001b[0m\n\u001b[1;32m     16\u001b[0m \u001b[0;34m\u001b[0m\u001b[0m\n",
      "\u001b[0;32m/zhome/49/7/76434/anaconda2/lib/python2.7/site-packages/sklearn/decomposition/nmf.pyc\u001b[0m in \u001b[0;36mfit_transform\u001b[0;34m(self, X, y, W, H)\u001b[0m\n\u001b[1;32m   1032\u001b[0m             \u001b[0mshuffle\u001b[0m\u001b[0;34m=\u001b[0m\u001b[0mself\u001b[0m\u001b[0;34m.\u001b[0m\u001b[0mshuffle\u001b[0m\u001b[0;34m,\u001b[0m\u001b[0;34m\u001b[0m\u001b[0m\n\u001b[1;32m   1033\u001b[0m             \u001b[0mnls_max_iter\u001b[0m\u001b[0;34m=\u001b[0m\u001b[0mself\u001b[0m\u001b[0;34m.\u001b[0m\u001b[0mnls_max_iter\u001b[0m\u001b[0;34m,\u001b[0m \u001b[0msparseness\u001b[0m\u001b[0;34m=\u001b[0m\u001b[0mself\u001b[0m\u001b[0;34m.\u001b[0m\u001b[0msparseness\u001b[0m\u001b[0;34m,\u001b[0m\u001b[0;34m\u001b[0m\u001b[0m\n\u001b[0;32m-> 1034\u001b[0;31m             beta=self.beta, eta=self.eta)\n\u001b[0m\u001b[1;32m   1035\u001b[0m \u001b[0;34m\u001b[0m\u001b[0m\n\u001b[1;32m   1036\u001b[0m         \u001b[0;32mif\u001b[0m \u001b[0mself\u001b[0m\u001b[0;34m.\u001b[0m\u001b[0msolver\u001b[0m \u001b[0;34m==\u001b[0m \u001b[0;34m'pg'\u001b[0m\u001b[0;34m:\u001b[0m\u001b[0;34m\u001b[0m\u001b[0m\n",
      "\u001b[0;32m/zhome/49/7/76434/anaconda2/lib/python2.7/site-packages/sklearn/decomposition/nmf.pyc\u001b[0m in \u001b[0;36mnon_negative_factorization\u001b[0;34m(X, W, H, n_components, init, update_H, solver, tol, max_iter, alpha, l1_ratio, regularization, random_state, verbose, shuffle, nls_max_iter, sparseness, beta, eta)\u001b[0m\n\u001b[1;32m    795\u001b[0m                                                \u001b[0mverbose\u001b[0m\u001b[0;34m=\u001b[0m\u001b[0mverbose\u001b[0m\u001b[0;34m,\u001b[0m\u001b[0;34m\u001b[0m\u001b[0m\n\u001b[1;32m    796\u001b[0m                                                \u001b[0mshuffle\u001b[0m\u001b[0;34m=\u001b[0m\u001b[0mshuffle\u001b[0m\u001b[0;34m,\u001b[0m\u001b[0;34m\u001b[0m\u001b[0m\n\u001b[0;32m--> 797\u001b[0;31m                                                random_state=random_state)\n\u001b[0m\u001b[1;32m    798\u001b[0m     \u001b[0;32melse\u001b[0m\u001b[0;34m:\u001b[0m\u001b[0;34m\u001b[0m\u001b[0m\n\u001b[1;32m    799\u001b[0m         \u001b[0;32mraise\u001b[0m \u001b[0mValueError\u001b[0m\u001b[0;34m(\u001b[0m\u001b[0;34m\"Invalid solver parameter '%s'.\"\u001b[0m \u001b[0;34m%\u001b[0m \u001b[0msolver\u001b[0m\u001b[0;34m)\u001b[0m\u001b[0;34m\u001b[0m\u001b[0m\n",
      "\u001b[0;32m/zhome/49/7/76434/anaconda2/lib/python2.7/site-packages/sklearn/decomposition/nmf.pyc\u001b[0m in \u001b[0;36m_fit_coordinate_descent\u001b[0;34m(X, W, H, tol, max_iter, alpha, l1_ratio, regularization, update_H, verbose, shuffle, random_state)\u001b[0m\n\u001b[1;32m    582\u001b[0m         \u001b[0;32mif\u001b[0m \u001b[0mupdate_H\u001b[0m\u001b[0;34m:\u001b[0m\u001b[0;34m\u001b[0m\u001b[0m\n\u001b[1;32m    583\u001b[0m             violation += _update_coordinate_descent(X.T, Ht, W, l1_H, l2_H,\n\u001b[0;32m--> 584\u001b[0;31m                                                     shuffle, rng)\n\u001b[0m\u001b[1;32m    585\u001b[0m \u001b[0;34m\u001b[0m\u001b[0m\n\u001b[1;32m    586\u001b[0m         \u001b[0;32mif\u001b[0m \u001b[0mn_iter\u001b[0m \u001b[0;34m==\u001b[0m \u001b[0;36m0\u001b[0m\u001b[0;34m:\u001b[0m\u001b[0;34m\u001b[0m\u001b[0m\n",
      "\u001b[0;32m/zhome/49/7/76434/anaconda2/lib/python2.7/site-packages/sklearn/decomposition/nmf.pyc\u001b[0m in \u001b[0;36m_update_coordinate_descent\u001b[0;34m(X, W, Ht, l1_reg, l2_reg, shuffle, random_state)\u001b[0m\n\u001b[1;32m    483\u001b[0m     \u001b[0;31m# The following seems to be required on 64-bit Windows w/ Python 3.5.\u001b[0m\u001b[0;34m\u001b[0m\u001b[0;34m\u001b[0m\u001b[0m\n\u001b[1;32m    484\u001b[0m     \u001b[0mpermutation\u001b[0m \u001b[0;34m=\u001b[0m \u001b[0mnp\u001b[0m\u001b[0;34m.\u001b[0m\u001b[0masarray\u001b[0m\u001b[0;34m(\u001b[0m\u001b[0mpermutation\u001b[0m\u001b[0;34m,\u001b[0m \u001b[0mdtype\u001b[0m\u001b[0;34m=\u001b[0m\u001b[0mnp\u001b[0m\u001b[0;34m.\u001b[0m\u001b[0mintp\u001b[0m\u001b[0;34m)\u001b[0m\u001b[0;34m\u001b[0m\u001b[0m\n\u001b[0;32m--> 485\u001b[0;31m     \u001b[0;32mreturn\u001b[0m \u001b[0m_update_cdnmf_fast\u001b[0m\u001b[0;34m(\u001b[0m\u001b[0mW\u001b[0m\u001b[0;34m,\u001b[0m \u001b[0mHHt\u001b[0m\u001b[0;34m,\u001b[0m \u001b[0mXHt\u001b[0m\u001b[0;34m,\u001b[0m \u001b[0mpermutation\u001b[0m\u001b[0;34m)\u001b[0m\u001b[0;34m\u001b[0m\u001b[0m\n\u001b[0m\u001b[1;32m    486\u001b[0m \u001b[0;34m\u001b[0m\u001b[0m\n\u001b[1;32m    487\u001b[0m \u001b[0;34m\u001b[0m\u001b[0m\n",
      "\u001b[0;31mKeyboardInterrupt\u001b[0m: "
     ]
    }
   ],
   "source": [
    "num_subjects = len(SpecsLabels['SPEC_1'][0])\n",
    "opt_n_features = {}\n",
    "\n",
    "#XTRAIN = np.zeros((num_subjects,), dtype=np.object)3XTEST = np.zeros((num_subjects,), dtype=np.object)\n",
    "\n",
    "zipped_data = zip(SpecsLabels['SPEC_1'][0],SpecsLabels['ANNOT_1'][0],SpecsLabels['ANNOTORIG_1'][0],\n",
    "          SpecsLabels['SPEC_2'][0],SpecsLabels['ANNOT_2'][0],SpecsLabels['ANNOTORIG_2'][0])\n",
    "sub_counter = 0\n",
    "\n",
    "for x1,y1_4,y1_6,x2,y2_4,y2_6 in zipped_data:\n",
    "    d, model = find_optimum_nnmf_dims(x1)\n",
    "    n_features = d['nnmf_dim']\n",
    "    opt_n_features['Subject_' + str(sub_counter)] = d\n",
    "    xtrain = model.fit_transform(x1)\n",
    "    spec_recon_train = inverse_transform(xtrain)\n",
    "    xtest = model.transform(x2)\n",
    "    spec_recon_test = inverse_transform(xtest)\n",
    "    data = pd.concat([pd.DataFrame(xtrain),pd.DataFrame(y1_4),pd.DataFrame(y1_6),\n",
    "                     pd.DataFrame(xtest), pd.DataFrame(y2_4), pd.DataFrame(y2_6)], axis=1, ignore_index = True)\n",
    "    index = pd.MultiIndex.from_tuples(col_names_tuple(n_features), names=['Sets', 'Dataspec', 'columns'])\n",
    "    data.columns = index\n",
    "    data.to_pickle('/zhome/49/7/76434/Documents/Data/NNMFandLabelsSubject_' + str(sub_counter) + '.pckl')\n",
    "    \n",
    "    data_recon = pd.concat([pd.DataFrame(spec) for spec in [spec_recon_train, spec_recon_test]], \n",
    "                           axis=1, ignore_index=True)\n",
    "    index_recon = pd.MultiIndex.from_tuples(col_recon_tuple(), names=['Sets', 'columns'])\n",
    "    data_recon.columns = index_recon\n",
    "    \n",
    "    data_recon.to_pickle('/zhome/49/7/76434/Documents/Data/ReconstructedDataSubject_' + str(sub_counter) + '.pckl')\n",
    "    \n",
    "    sub_counter += 1\n",
    "    \n",
    "json.dump(opt_n_features,'/zhome/49/7/76434/Documents/Data/OptDimDict.json')    \n"
   ]
  },
  {
   "cell_type": "code",
   "execution_count": 47,
   "metadata": {},
   "outputs": [
    {
     "name": "stdout",
     "output_type": "stream",
     "text": [
      "MultiIndex(levels=[[u'test', u'val'], [u'X', u'y_c4', u'y_c6'], [0, 1, 2, 3, 4, 5, 6, 7, 8, 9, 10, 11, 12, 13, 14, 15, 16, 17, 18, 19, 20, 21, 22, 23, 24, 25, 26, 27, 28, 29, 30, 31, 32, 33, 34, 35, 36, 37, 38, 39]],\n",
      "           labels=[[1, 1, 1, 1, 1, 1, 1, 1, 1, 1, 1, 1, 1, 1, 1, 1, 1, 1, 1, 1, 1, 1, 1, 1, 1, 1, 1, 1, 1, 1, 1, 1, 1, 1, 1, 1, 1, 1, 1, 1, 1, 1, 0, 0, 0, 0, 0, 0, 0, 0, 0, 0, 0, 0, 0, 0, 0, 0, 0, 0, 0, 0, 0, 0, 0, 0, 0, 0, 0, 0, 0, 0, 0, 0, 0, 0, 0, 0, 0, 0, 0, 0, 0, 0], [0, 0, 0, 0, 0, 0, 0, 0, 0, 0, 0, 0, 0, 0, 0, 0, 0, 0, 0, 0, 0, 0, 0, 0, 0, 0, 0, 0, 0, 0, 0, 0, 0, 0, 0, 0, 0, 0, 0, 0, 1, 2, 0, 0, 0, 0, 0, 0, 0, 0, 0, 0, 0, 0, 0, 0, 0, 0, 0, 0, 0, 0, 0, 0, 0, 0, 0, 0, 0, 0, 0, 0, 0, 0, 0, 0, 0, 0, 0, 0, 0, 0, 1, 2], [0, 1, 2, 3, 4, 5, 6, 7, 8, 9, 10, 11, 12, 13, 14, 15, 16, 17, 18, 19, 20, 21, 22, 23, 24, 25, 26, 27, 28, 29, 30, 31, 32, 33, 34, 35, 36, 37, 38, 39, 1, 1, 0, 1, 2, 3, 4, 5, 6, 7, 8, 9, 10, 11, 12, 13, 14, 15, 16, 17, 18, 19, 20, 21, 22, 23, 24, 25, 26, 27, 28, 29, 30, 31, 32, 33, 34, 35, 36, 37, 38, 39, 1, 1]],\n",
      "           names=[u'Sets', u'Dataspec', u'columns'])\n"
     ]
    }
   ],
   "source": [
    "print index"
   ]
  },
  {
   "cell_type": "markdown",
   "metadata": {},
   "source": [
    "# GMM"
   ]
  },
  {
   "cell_type": "markdown",
   "metadata": {},
   "source": [
    "## Make synthetic dataset"
   ]
  },
  {
   "cell_type": "code",
   "execution_count": 1,
   "metadata": {
    "collapsed": true
   },
   "outputs": [],
   "source": [
    "import numpy as np\n",
    "import pandas as pd\n",
    "import matplotlib.pyplot as plt\n"
   ]
  },
  {
   "cell_type": "code",
   "execution_count": 2,
   "metadata": {
    "collapsed": true
   },
   "outputs": [],
   "source": [
    "def col_names_tuple(n_features):\n",
    "    row1_colnames = [ [\"val\"]*(n_features + 2), [\"test\"]*(n_features + 2) ]\n",
    "    row2_colnames = [ [\"X\"]*n_features, [\"y_c4\"], [\"y_c6\"] ]*2\n",
    "    row3_colnames = [range(n_features), [1]*2] * 2\n",
    "    \n",
    "    col_names = map(flatten,[ row1_colnames, row2_colnames, row3_colnames])\n",
    "    \n",
    "    return list(zip(*col_names))"
   ]
  },
  {
   "cell_type": "code",
   "execution_count": 3,
   "metadata": {
    "collapsed": true
   },
   "outputs": [],
   "source": [
    "# funciton for flattening lists\n",
    "flatten = lambda l: [item for sublist in l for item in sublist]"
   ]
  },
  {
   "cell_type": "code",
   "execution_count": 4,
   "metadata": {
    "collapsed": true
   },
   "outputs": [],
   "source": [
    "def get_synthetic_dataset():\n",
    "    N = 100\n",
    "    N_labels = 10\n",
    "    mean_value = 2\n",
    "    wrongLabelFrac = 2.0/3.0\n",
    "    mean1 = np.array([1, 1])*mean_value\n",
    "    mean2 = -mean1\n",
    "    cov1 = [[1, 0.5], [0.5, 1]]\n",
    "    cov2 = [[1, -0.5], [-0.5, 1]]\n",
    "    n_features = 2\n",
    "    \n",
    "    x1, y1 = np.random.multivariate_normal(mean1, cov1, N).T\n",
    "    x2, y2 = np.random.multivariate_normal(mean2, cov2, N).T\n",
    "    \n",
    "    labels1 = np.random.permutation(np.append(np.append(np.ones([int(round(N_labels*wrongLabelFrac)),1],dtype=np.int8), \n",
    "                    np.ones([int(round(N_labels*(1-wrongLabelFrac))),1],dtype=np.int8)*2), \n",
    "                    np.zeros([N-N_labels,1],dtype=np.int8)))\n",
    "    \n",
    "    labels2 = np.random.permutation(np.append(np.append(np.ones([int(round(N_labels*wrongLabelFrac)),1],dtype=np.int8)*2,\n",
    "                    np.ones([int(round(N_labels*(1-wrongLabelFrac))),1],dtype=np.int8)), \n",
    "                    np.zeros([N-N_labels,1],dtype=np.int8)))\n",
    "    \n",
    "    data = pd.concat([pd.DataFrame(x1), pd.DataFrame(y1), pd.DataFrame(labels1), pd.DataFrame(labels1),\n",
    "                 pd.DataFrame(x2), pd.DataFrame(y2), pd.DataFrame(labels2), pd.DataFrame(labels2)], axis=1, ignore_index = True)\n",
    "    \n",
    "    index = pd.MultiIndex.from_tuples(col_names_tuple(n_features), names = ['sets', 'dataspec', 'columns'])\n",
    "    data.columns = index\n",
    "    \n",
    "    return data"
   ]
  },
  {
   "cell_type": "code",
   "execution_count": 5,
   "metadata": {},
   "outputs": [
    {
     "name": "stdout",
     "output_type": "stream",
     "text": [
      "sets           val                          test                    \n",
      "dataspec         X           y_c4 y_c6         X           y_c4 y_c6\n",
      "columns          0         1    1    1         0         1    1    1\n",
      "0         1.656956  1.000856    1    1 -4.236507  1.086182    1    1\n",
      "1         1.366643  1.610913    2    2 -2.650795 -1.950576    1    1\n",
      "2         3.184153  2.168306    2    2 -0.723386 -2.463305    1    1\n",
      "3         2.490218  1.071766    1    1 -3.765662 -1.645417    2    2\n",
      "4         0.267136  1.262633    1    1 -1.906641 -1.608961    2    2\n",
      "5         1.463936  1.975929    1    1 -1.875936 -0.846186    2    2\n",
      "6         2.043592 -0.025481    1    1 -2.126411 -2.489974    1    1\n",
      "7         4.491769  2.864628    1    1 -1.695628 -2.499507    2    2\n",
      "8         2.445052  1.785682    1    1 -1.725617 -1.861156    2    2\n",
      "9         1.401730  0.448337    1    1 -1.027473 -1.567525    1    1\n",
      "10        1.998359  2.582704    1    1 -2.178649 -2.236038    2    2\n",
      "11        3.386270  3.527280    1    1  0.399998 -3.686955    1    1\n",
      "12        1.986119  3.697873    1    1  0.059675 -5.030809    2    2\n",
      "13       -0.059371  1.268101    1    1 -1.399429 -2.967218    2    2\n",
      "14        1.120145  2.590559    1    1 -0.990456 -2.159790    2    2\n",
      "15        1.028315  2.264895    2    2 -3.136403 -2.884972    2    2\n",
      "16        0.035140  1.216914    2    2 -3.453642 -1.869559    1    1\n",
      "17        2.097656  1.640621    2    2 -3.678356  0.260078    1    1\n",
      "18        3.506662  2.300727    2    2 -0.286215 -1.506539    2    2\n",
      "19        3.397552  3.277892    1    1 -2.822405 -2.444589    1    1\n",
      "20        2.738947  2.783371    2    2 -1.926066 -2.572161    2    2\n",
      "21        2.898279  2.461630    2    2 -1.788663 -1.642183    2    2\n",
      "22        3.112190  2.593074    1    1 -4.434594 -0.303923    1    1\n",
      "23        1.570915  2.914799    1    1 -2.315047 -2.595954    2    2\n",
      "24        2.927626  2.533009    1    1 -3.775231 -0.048906    1    1\n",
      "25        2.683736  1.950741    1    1 -1.869468 -2.786223    2    2\n",
      "26        2.891839  2.780231    1    1 -1.336087 -3.839653    2    2\n",
      "27        2.618119  1.967467    1    1 -3.244137 -0.555601    2    2\n",
      "28        0.737668  1.293405    2    2 -2.122067 -2.526873    1    1\n",
      "29        1.180710  2.939426    2    2 -3.907600 -0.992302    2    2\n",
      "..             ...       ...  ...  ...       ...       ...  ...  ...\n",
      "70        1.640986  2.892553    1    1 -2.399341 -2.755935    2    2\n",
      "71        2.501106  2.245709    1    1 -0.724309 -3.081764    2    2\n",
      "72        1.462174  2.390738    1    1 -2.353783 -3.111416    2    2\n",
      "73        2.735452  1.620857    1    1 -0.629460 -2.056693    1    1\n",
      "74        2.785478  2.189138    1    1 -1.469043 -3.402664    1    1\n",
      "75        2.708221  2.602752    1    1 -3.162710 -0.787196    2    2\n",
      "76       -0.577965  1.900744    1    1 -1.339017 -2.109988    1    1\n",
      "77        2.019808  2.794567    2    2 -2.093187 -3.633893    2    2\n",
      "78        0.724882  2.025792    1    1 -1.715519 -2.205109    2    2\n",
      "79        2.120060  1.894505    1    1 -2.620074 -1.033939    2    2\n",
      "80        2.300958  2.326510    2    2 -0.197341 -3.326570    1    1\n",
      "81        1.978314  1.218618    1    1 -3.197590 -1.705231    2    2\n",
      "82        2.984142  2.512074    1    1 -0.854100 -3.389338    2    2\n",
      "83        1.220950  3.136383    2    2 -1.179732 -3.183967    2    2\n",
      "84        1.738195  1.730851    1    1 -2.278864 -2.086099    1    1\n",
      "85        1.903880  1.633285    2    2 -1.849484 -1.591150    2    2\n",
      "86        2.716647  1.873371    1    1 -1.199300 -1.352216    1    1\n",
      "87        2.489655  0.935605    2    2 -3.163687 -2.609080    1    1\n",
      "88        2.702463  1.466961    2    2 -2.926746 -1.264659    2    2\n",
      "89        1.400535  1.784633    1    1 -1.623367 -3.730658    1    1\n",
      "90        1.213912  0.532707    1    1 -2.123067 -1.248298    2    2\n",
      "91        2.095164 -0.222917    1    1 -1.674898 -2.003652    2    2\n",
      "92        2.432826  2.187436    1    1 -2.579769 -1.143132    2    2\n",
      "93        2.715001  0.904948    1    1 -3.962156 -2.062711    2    2\n",
      "94        2.976473  1.854168    1    1 -1.982237 -2.180361    2    2\n",
      "95        0.299569 -0.080686    1    1 -0.528533 -3.854982    2    2\n",
      "96        1.669325  3.202775    1    1 -2.207348 -0.735355    2    2\n",
      "97        2.920036  3.443637    1    1 -2.568641 -2.545901    2    2\n",
      "98        1.516868  1.194944    1    1 -1.919602 -2.501254    1    1\n",
      "99        1.916939  0.251899    1    1 -2.735702 -2.095370    1    1\n",
      "\n",
      "[100 rows x 8 columns]\n"
     ]
    }
   ],
   "source": [
    "\n",
    "\n",
    "data = get_synthetic_dataset()\n",
    "print data"
   ]
  },
  {
   "cell_type": "code",
   "execution_count": null,
   "metadata": {
    "collapsed": true
   },
   "outputs": [],
   "source": [
    "plt.close()\n",
    "plt.plot(dataset.x1, dataset.y1, 'v', color = '0.75')\n",
    "plt.plot(dataset.x2, dataset.y2, 'o', color = '0.75')\n",
    "plt.plot(dataset.x1[labels1==1], dataset.y1[labels1==1], 'v', color = 'b')\n",
    "plt.plot(dataset.x1[labels1==2], dataset.y1[labels1==2], 'v', color = 'r')\n",
    "plt.plot(dataset.x2[labels2==1], dataset.y2[labels2==1], 'o', color = 'b')\n",
    "plt.plot(dataset.x2[labels2==2], dataset.y2[labels2==2], 'o', color = 'r')\n",
    "plt.axis('equal')\n",
    "plt.show()"
   ]
  },
  {
   "cell_type": "markdown",
   "metadata": {},
   "source": [
    "# Play with database"
   ]
  },
  {
   "cell_type": "code",
   "execution_count": 1,
   "metadata": {
    "collapsed": true
   },
   "outputs": [],
   "source": [
    "from sqlalchemy import create_engine\n",
    "from sqlalchemy import MetaData\n",
    "from sqlalchemy.ext.declarative import declarative_base\n",
    "from sqlalchemy.orm import sessionmaker\n",
    "#from to_sql import *\n",
    "from datetime import datetime\n",
    "from sqlalchemy import Column, Integer, String\n"
   ]
  },
  {
   "cell_type": "code",
   "execution_count": null,
   "metadata": {
    "collapsed": true
   },
   "outputs": [],
   "source": []
  },
  {
   "cell_type": "code",
   "execution_count": null,
   "metadata": {
    "collapsed": true
   },
   "outputs": [],
   "source": []
  },
  {
   "cell_type": "code",
   "execution_count": 3,
   "metadata": {
    "collapsed": true
   },
   "outputs": [],
   "source": [
    "#engine = create_engine('sqlite:///DataBase/sleep_performance.db', echo = False)\n",
    "engine = create_engine('sqlite:///DataBase/ourDB.db', echo = True)\n",
    "\n",
    "Base = declarative_base()"
   ]
  },
  {
   "cell_type": "code",
   "execution_count": 4,
   "metadata": {
    "collapsed": true
   },
   "outputs": [],
   "source": [
    "class User(Base):\n",
    "    __tablename__ = 'users'\n",
    "    id = Column(Integer, primary_key=True)\n",
    "    name = Column(String)\n",
    "    fullname = Column(String)\n",
    "    password = Column(String)\n",
    "    \n",
    "    def __repr__(self):\n",
    "       return \"<User(name='%s', fullname='%s', password='%s')>\" % (\n",
    "                            self.name, self.fullname, self.password)"
   ]
  },
  {
   "cell_type": "code",
   "execution_count": 5,
   "metadata": {},
   "outputs": [
    {
     "data": {
      "text/plain": [
       "Table('users', MetaData(bind=None), Column('id', Integer(), table=<users>, primary_key=True, nullable=False), Column('name', String(), table=<users>), Column('fullname', String(), table=<users>), Column('password', String(), table=<users>), schema=None)"
      ]
     },
     "execution_count": 5,
     "metadata": {},
     "output_type": "execute_result"
    }
   ],
   "source": [
    "User.__table__"
   ]
  },
  {
   "cell_type": "code",
   "execution_count": 6,
   "metadata": {
    "collapsed": true
   },
   "outputs": [],
   "source": [
    "Base.metadata.create_all(engine)"
   ]
  },
  {
   "cell_type": "code",
   "execution_count": 7,
   "metadata": {},
   "outputs": [
    {
     "data": {
      "text/plain": [
       "'ed'"
      ]
     },
     "execution_count": 7,
     "metadata": {},
     "output_type": "execute_result"
    }
   ],
   "source": [
    "ed_user = User(name='ed', fullname='Ed Jones', password='edspassword')\n",
    "se"
   ]
  },
  {
   "cell_type": "code",
   "execution_count": 9,
   "metadata": {},
   "outputs": [
    {
     "name": "stdout",
     "output_type": "stream",
     "text": [
      "edspassword\n"
     ]
    },
    {
     "data": {
      "text/plain": [
       "'None'"
      ]
     },
     "execution_count": 9,
     "metadata": {},
     "output_type": "execute_result"
    }
   ],
   "source": [
    "print ed_user.password\n",
    "str(ed_user.id)"
   ]
  },
  {
   "cell_type": "code",
   "execution_count": 11,
   "metadata": {
    "collapsed": true
   },
   "outputs": [],
   "source": [
    "Session = sessionmaker(bind=engine)\n",
    "session = Session()"
   ]
  },
  {
   "cell_type": "code",
   "execution_count": 14,
   "metadata": {
    "collapsed": true
   },
   "outputs": [],
   "source": [
    "session.add(ed_user)"
   ]
  },
  {
   "cell_type": "code",
   "execution_count": 15,
   "metadata": {
    "collapsed": true
   },
   "outputs": [],
   "source": [
    "our_user = session.query(User).filter_by(name='ed').first()"
   ]
  },
  {
   "cell_type": "code",
   "execution_count": 16,
   "metadata": {},
   "outputs": [
    {
     "name": "stdout",
     "output_type": "stream",
     "text": [
      "<User(name='ed', fullname='Ed Jones', password='edspassword')>\n"
     ]
    }
   ],
   "source": [
    "print our_user"
   ]
  },
  {
   "cell_type": "code",
   "execution_count": 17,
   "metadata": {
    "collapsed": true
   },
   "outputs": [],
   "source": [
    "session.add_all([\n",
    "    User(name='wendy', fullname='Wendy Williams', password='foobar'),\n",
    "    User(name='mary', fullname='Mary Contrary', password='xxg527'),\n",
    "    User(name='fred', fullname='Fred Flinstone', password='blah')])"
   ]
  },
  {
   "cell_type": "code",
   "execution_count": 18,
   "metadata": {
    "collapsed": true
   },
   "outputs": [],
   "source": [
    "session.commit()"
   ]
  },
  {
   "cell_type": "code",
   "execution_count": null,
   "metadata": {
    "collapsed": true
   },
   "outputs": [],
   "source": []
  }
 ],
 "metadata": {
  "kernelspec": {
   "display_name": "Python [default]",
   "language": "python",
   "name": "python2"
  },
  "language_info": {
   "codemirror_mode": {
    "name": "ipython",
    "version": 2
   },
   "file_extension": ".py",
   "mimetype": "text/x-python",
   "name": "python",
   "nbconvert_exporter": "python",
   "pygments_lexer": "ipython2",
   "version": "2.7.13"
  }
 },
 "nbformat": 4,
 "nbformat_minor": 2
}
